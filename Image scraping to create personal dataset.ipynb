{
 "cells": [
  {
   "cell_type": "markdown",
   "id": "b1b53df0",
   "metadata": {},
   "source": [
    "In this notebook, we are going to take a look at how to build our own datasets and use it to feed into the training requirements for the classification model building. \n",
    "As such, let's start with the basics. In this guide, we are going to use a web image scarping on Pinterest as an example. I'm going to cover the subject of Web scarping as a whole in another repository so please check that one out. \n"
   ]
  },
  {
   "cell_type": "code",
   "execution_count": null,
   "id": "3ddb6f52",
   "metadata": {},
   "outputs": [],
   "source": []
  }
 ],
 "metadata": {
  "kernelspec": {
   "display_name": "Python 3 (ipykernel)",
   "language": "python",
   "name": "python3"
  },
  "language_info": {
   "codemirror_mode": {
    "name": "ipython",
    "version": 3
   },
   "file_extension": ".py",
   "mimetype": "text/x-python",
   "name": "python",
   "nbconvert_exporter": "python",
   "pygments_lexer": "ipython3",
   "version": "3.10.11"
  }
 },
 "nbformat": 4,
 "nbformat_minor": 5
}
